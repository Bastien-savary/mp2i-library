{
 "cells": [
  {
   "cell_type": "code",
   "execution_count": 2,
   "id": "2011a1fe-ed70-413b-b8e5-a3bd8bc44856",
   "metadata": {},
   "outputs": [
    {
     "name": "stdout",
     "output_type": "stream",
     "text": [
      "val length_l : 'a list -> int = <fun>\n",
      "val somme_t : int array -> int = <fun>\n",
      "val appartient_t : 'a -> 'a array -> bool = <fun>\n",
      "val mini_t : int array -> int = <fun>\n",
      "val maxi_t : int array -> int = <fun>\n",
      "val croissant_t : 'a array -> bool = <fun>\n",
      "val decroissant_t : 'a array -> bool = <fun>\n",
      "val doublon_t : 'a array -> bool = <fun>\n",
      "val inverser_t : 'a array -> 'a array = <fun>\n",
      "val egal_t : 'a array -> 'a array -> bool = <fun>\n",
      "val consecutive_max_t : int array -> int = <fun>\n",
      "val image_t : ('a -> 'a) -> 'a array -> 'a array = <fun>\n",
      "val dichotomie_t : 'a -> 'a array -> bool = <fun>\n",
      "val trichotomie_t : 'a -> 'a array -> bool = <fun>\n",
      "val tri_comptage_t : int array -> int array = <fun>\n",
      "val swap_t : 'a array -> int -> int -> unit = <fun>\n",
      "val sort_bubble : 'a array -> unit = <fun>\n",
      "val tri_t : 'a array -> unit = <fun>\n",
      "val array_of_list : int list -> int array = <fun>\n",
      "val array_to_list : 'a array -> 'a list = <fun>\n"
     ]
    }
   ],
   "source": [
    "#use \"all-array.ml\""
   ]
  },
  {
   "cell_type": "code",
   "execution_count": 3,
   "id": "dea01326-f950-4ad7-bf5f-0b884c27d016",
   "metadata": {},
   "outputs": [
    {
     "data": {
      "text/plain": [
       "val t1 : int array = [|1; 2; 3; 4; 5; 6|]\n"
      ]
     },
     "execution_count": 3,
     "metadata": {},
     "output_type": "execute_result"
    },
    {
     "data": {
      "text/plain": [
       "val t2 : int array = [|7; 5; 3; 4; 2; 8; 6|]\n"
      ]
     },
     "execution_count": 3,
     "metadata": {},
     "output_type": "execute_result"
    },
    {
     "data": {
      "text/plain": [
       "val t3 : int array = [|8; 4; 6; 4; 2; 9; 8|]\n"
      ]
     },
     "execution_count": 3,
     "metadata": {},
     "output_type": "execute_result"
    }
   ],
   "source": [
    "let t1 = [|1;2;3;4;5;6|];;\n",
    "let t2 = [|7;5;3;4;2;8;6;|];;\n",
    "let t3 = [|8;4;6;4;2;9;8;|];;"
   ]
  },
  {
   "cell_type": "code",
   "execution_count": 13,
   "id": "4909a0e6-e2d4-4485-b7d4-6f17faafd53e",
   "metadata": {},
   "outputs": [
    {
     "data": {
      "text/plain": [
       "- : unit = ()\n"
      ]
     },
     "execution_count": 13,
     "metadata": {},
     "output_type": "execute_result"
    },
    {
     "data": {
      "text/plain": [
       "- : int array = [|1; 2; 4; 3; 5; 6|]\n"
      ]
     },
     "execution_count": 13,
     "metadata": {},
     "output_type": "execute_result"
    }
   ],
   "source": [
    "(* [swap_t t i j] échange t.(i) et t.(j) *)    \n",
    "swap_t t1 2 3;;\n",
    "t1;;"
   ]
  },
  {
   "cell_type": "code",
   "execution_count": 14,
   "id": "d518d853-b535-41b5-85d3-c2f827c11bf7",
   "metadata": {},
   "outputs": [
    {
     "data": {
      "text/plain": [
       "- : int array = [|6; 5; 3; 4; 2; 1|]\n"
      ]
     },
     "execution_count": 14,
     "metadata": {},
     "output_type": "execute_result"
    }
   ],
   "source": [
    "(* [inverser_t t1] renvoie l'inversion du tableaux t1*)\n",
    "inverser_t t1"
   ]
  },
  {
   "cell_type": "code",
   "execution_count": 15,
   "id": "bb679761-e56c-4ad3-a4ea-e09756570ffe",
   "metadata": {},
   "outputs": [
    {
     "data": {
      "text/plain": [
       "- : int array = [|24; 20; 12; 16; 8; 4|]\n"
      ]
     },
     "execution_count": 15,
     "metadata": {},
     "output_type": "execute_result"
    }
   ],
   "source": [
    "(* [image_t f t1] renvoie le tableau contenant les images de chaque élément de t1 par f *)           \n",
    "image_t (fun a -> 4*a) t1"
   ]
  },
  {
   "cell_type": "code",
   "execution_count": 17,
   "id": "9bca4fe6-1d06-47e4-aa6a-214c9c196510",
   "metadata": {},
   "outputs": [
    {
     "data": {
      "text/plain": [
       "- : unit = ()\n"
      ]
     },
     "execution_count": 17,
     "metadata": {},
     "output_type": "execute_result"
    },
    {
     "data": {
      "text/plain": [
       "- : int array = [|4; 8; 12; 16; 20; 24|]\n"
      ]
     },
     "execution_count": 17,
     "metadata": {},
     "output_type": "execute_result"
    }
   ],
   "source": [
    "(* [sort_bubble t] trie le tableau en compléxité (O(n**2)) *)\n",
    "sort_bubble t1;;\n",
    "t1;;"
   ]
  },
  {
   "cell_type": "code",
   "execution_count": 18,
   "id": "f9bf4a41-51ba-4f6f-9d05-3bc986da0347",
   "metadata": {},
   "outputs": [
    {
     "data": {
      "text/plain": [
       "- : int array = [|2; 4; 4; 6; 8; 8; 9|]\n"
      ]
     },
     "execution_count": 18,
     "metadata": {},
     "output_type": "execute_result"
    }
   ],
   "source": [
    "(* [tri_comptage_t  t1] trie le tableau t1*)\n",
    "tri_comptage_t t3"
   ]
  },
  {
   "cell_type": "code",
   "execution_count": 22,
   "id": "98fecbd5-7b6f-474c-aab3-79b717d0efc6",
   "metadata": {},
   "outputs": [
    {
     "data": {
      "text/plain": [
       "- : int array = [|1; 2; 3; 4|]\n"
      ]
     },
     "execution_count": 22,
     "metadata": {},
     "output_type": "execute_result"
    }
   ],
   "source": [
    "(* [array_of_list l] transforme une liste en tableau *)\n",
    "let l = [1;2;3;4] in array_of_list l"
   ]
  },
  {
   "cell_type": "code",
   "execution_count": 23,
   "id": "f76ab8dd-5599-406e-95f2-0f2e45467931",
   "metadata": {},
   "outputs": [
    {
     "data": {
      "text/plain": [
       "- : int list = [7; 5; 3; 4; 2; 8; 6]\n"
      ]
     },
     "execution_count": 23,
     "metadata": {},
     "output_type": "execute_result"
    }
   ],
   "source": [
    "(* [array_to_list t] transforme un tableau en liste *)\n",
    "array_to_list t2"
   ]
  },
  {
   "cell_type": "code",
   "execution_count": null,
   "id": "3d31f7a9-7268-4f64-a59d-cc5594578bb5",
   "metadata": {},
   "outputs": [],
   "source": []
  }
 ],
 "metadata": {
  "kernelspec": {
   "display_name": "OCaml default",
   "language": "OCaml",
   "name": "ocaml-jupyter"
  },
  "language_info": {
   "codemirror_mode": "text/x-ocaml",
   "file_extension": ".ml",
   "mimetype": "text/x-ocaml",
   "name": "OCaml",
   "nbconverter_exporter": null,
   "pygments_lexer": "OCaml",
   "version": "4.08.1"
  }
 },
 "nbformat": 4,
 "nbformat_minor": 5
}

