{
 "cells": [
  {
   "cell_type": "code",
   "execution_count": 3,
   "id": "c47ca873-fe60-460c-88bc-b0de8c2d4bb5",
   "metadata": {},
   "outputs": [
    {
     "name": "stdout",
     "output_type": "stream",
     "text": [
      "val length_l : 'a list -> int = <fun>\n",
      "val somme_t : int array -> int = <fun>\n",
      "val appartient_t : 'a -> 'a array -> bool = <fun>\n",
      "val mini_t : int array -> int = <fun>\n",
      "val maxi_t : int array -> int = <fun>\n",
      "val croissant_t : 'a array -> bool = <fun>\n",
      "val decroissant_t : 'a array -> bool = <fun>\n",
      "val doublon_t : 'a array -> bool = <fun>\n",
      "val inverser_t : 'a array -> 'a array = <fun>\n",
      "val egal_t : 'a array -> 'a array -> bool = <fun>\n",
      "val consecutive_max_t : int array -> int = <fun>\n",
      "val image_t : ('a -> 'a) -> 'a array -> 'a array = <fun>\n",
      "val dichotomie_t : 'a -> 'a array -> bool = <fun>\n",
      "val trichotomie_t : 'a -> 'a array -> bool = <fun>\n",
      "val tri_comptage_t : int array -> int array = <fun>\n",
      "val swap_t : 'a array -> int -> int -> unit = <fun>\n",
      "val sort_bubble : 'a array -> unit = <fun>\n",
      "val tri_t : 'a array -> unit = <fun>\n",
      "val array_of_list : int list -> int array = <fun>\n",
      "val array_to_list : 'a array -> 'a list = <fun>\n"
     ]
    }
   ],
   "source": [
    "#use \"all-array.ml\""
   ]
  },
  {
   "cell_type": "code",
   "execution_count": 12,
   "id": "a8224436-b608-43d9-971a-d3a202d316a6",
   "metadata": {},
   "outputs": [
    {
     "data": {
      "text/plain": [
       "val t1 : int array = [|1; 2; 3; 4; 5; 6|]\n"
      ]
     },
     "execution_count": 12,
     "metadata": {},
     "output_type": "execute_result"
    },
    {
     "data": {
      "text/plain": [
       "val t2 : int array = [|7; 5; 3; 4; 2; 8; 6|]\n"
      ]
     },
     "execution_count": 12,
     "metadata": {},
     "output_type": "execute_result"
    },
    {
     "data": {
      "text/plain": [
       "val t3 : int array = [|8; 4; 6; 4; 2; 9; 8|]\n"
      ]
     },
     "execution_count": 12,
     "metadata": {},
     "output_type": "execute_result"
    }
   ],
   "source": [
    "let t1 = [|1;2;3;4;5;6|];;\n",
    "let t2 = [|7;5;3;4;2;8;6;|];;\n",
    "let t3 = [|8;4;6;4;2;9;8;|];;"
   ]
  },
  {
   "cell_type": "code",
   "execution_count": 5,
   "id": "7f5a6fc9-6b02-4222-926e-b81a86321df2",
   "metadata": {},
   "outputs": [
    {
     "data": {
      "text/plain": [
       "- : int = 21\n"
      ]
     },
     "execution_count": 5,
     "metadata": {},
     "output_type": "execute_result"
    }
   ],
   "source": [
    "(* [somme_t t1] renvoie la somme des éléments de t1 *)\n",
    "somme_t t1"
   ]
  },
  {
   "cell_type": "code",
   "execution_count": 6,
   "id": "b7d91deb-c3d6-4417-abf0-1dce7c099e7b",
   "metadata": {},
   "outputs": [
    {
     "data": {
      "text/plain": [
       "- : bool = false\n"
      ]
     },
     "execution_count": 6,
     "metadata": {},
     "output_type": "execute_result"
    }
   ],
   "source": [
    "(* [appartient_t e t1] renvoie si e appartient à t1*)\n",
    "appartient_t 10 t1"
   ]
  },
  {
   "cell_type": "code",
   "execution_count": 15,
   "id": "81d228e9-745b-4e65-a3ac-3dd7aa6e1432",
   "metadata": {},
   "outputs": [
    {
     "data": {
      "text/plain": [
       "- : int = 2\n"
      ]
     },
     "execution_count": 15,
     "metadata": {},
     "output_type": "execute_result"
    }
   ],
   "source": [
    "(* [mini_t t1] renvoie le minimum de t1*)\n",
    "mini_t t3"
   ]
  },
  {
   "cell_type": "code",
   "execution_count": 8,
   "id": "61b527f5-6db5-4537-b3fd-8f72a210fe54",
   "metadata": {},
   "outputs": [
    {
     "data": {
      "text/plain": [
       "- : int = 6\n"
      ]
     },
     "execution_count": 8,
     "metadata": {},
     "output_type": "execute_result"
    }
   ],
   "source": [
    "(* [maxi_t t1] renvoie le maximum de t1*)\n",
    "maxi_t t1"
   ]
  },
  {
   "cell_type": "code",
   "execution_count": 9,
   "id": "7a09791e-a592-45e5-980b-277172791066",
   "metadata": {},
   "outputs": [
    {
     "data": {
      "text/plain": [
       "- : bool = true\n"
      ]
     },
     "execution_count": 9,
     "metadata": {},
     "output_type": "execute_result"
    }
   ],
   "source": [
    "(* [croissant_t t1] renvoie si t1 est trié dans l'ordre croissant *)\n",
    "croissant_t t1"
   ]
  },
  {
   "cell_type": "code",
   "execution_count": 10,
   "id": "df7fabfa-468a-4790-b2d8-a14b5d4cf96f",
   "metadata": {},
   "outputs": [
    {
     "data": {
      "text/plain": [
       "- : bool = false\n"
      ]
     },
     "execution_count": 10,
     "metadata": {},
     "output_type": "execute_result"
    }
   ],
   "source": [
    "(* [decroissant_t t1] renvoie si t1 est trié dans l'ordre décroissant  *)\n",
    "decroissant_t t1"
   ]
  },
  {
   "cell_type": "code",
   "execution_count": 14,
   "id": "9c165560-9a05-414f-add5-366ac89976d4",
   "metadata": {},
   "outputs": [
    {
     "data": {
      "text/plain": [
       "- : bool = false\n"
      ]
     },
     "execution_count": 14,
     "metadata": {},
     "output_type": "execute_result"
    },
    {
     "data": {
      "text/plain": [
       "- : bool = true\n"
      ]
     },
     "execution_count": 14,
     "metadata": {},
     "output_type": "execute_result"
    }
   ],
   "source": [
    "(* [doublon_t t1] indique si il existe un doublon dans t1 *)\n",
    "doublon_t t1;;\n",
    "doublon_t t3"
   ]
  },
  {
   "cell_type": "code",
   "execution_count": 17,
   "id": "e5f03f2b-615f-4c51-af9c-cf1f5ba7033e",
   "metadata": {},
   "outputs": [
    {
     "data": {
      "text/plain": [
       "- : bool = false\n"
      ]
     },
     "execution_count": 17,
     "metadata": {},
     "output_type": "execute_result"
    }
   ],
   "source": [
    "(* [egal_t t1 t2] indique si les deux tableaux sont identiques*)\n",
    "egal_t t1 t2"
   ]
  },
  {
   "cell_type": "code",
   "execution_count": 18,
   "id": "0ee71877-de3b-46ce-8efc-087aa745acf4",
   "metadata": {},
   "outputs": [
    {
     "data": {
      "text/plain": [
       "- : int = 21\n"
      ]
     },
     "execution_count": 18,
     "metadata": {},
     "output_type": "execute_result"
    }
   ],
   "source": [
    "(* [consecutive_max_t t1] retourne la plus importante somme d'éléments du tableau t1 *)\n",
    "consecutive_max_t t1"
   ]
  },
  {
   "cell_type": "code",
   "execution_count": 20,
   "id": "1d7c7343-5cf0-4aa5-9309-bb81189beafb",
   "metadata": {},
   "outputs": [
    {
     "data": {
      "text/plain": [
       "- : bool = false\n"
      ]
     },
     "execution_count": 20,
     "metadata": {},
     "output_type": "execute_result"
    }
   ],
   "source": [
    "(* [dichotomie_t e t1] indique si e appartient à t1 en compléxité O(nlog(n))*)\n",
    "dichotomie_t 7 t1"
   ]
  },
  {
   "cell_type": "code",
   "execution_count": 22,
   "id": "f089e4d9-07fc-4d1c-a3e6-c0acdb91a85e",
   "metadata": {},
   "outputs": [
    {
     "data": {
      "text/plain": [
       "- : bool = false\n"
      ]
     },
     "execution_count": 22,
     "metadata": {},
     "output_type": "execute_result"
    }
   ],
   "source": [
    "(* [trichotomie_t e t1] indique si e appartient à t1 en compléxité O(nlog(n))*)\n",
    "trichotomie_t 4 t1"
   ]
  },
  {
   "cell_type": "code",
   "execution_count": null,
   "id": "aeaeb34f-91c9-4ad5-aa67-10ac65bbc410",
   "metadata": {},
   "outputs": [],
   "source": []
  }
 ],
 "metadata": {
  "kernelspec": {
   "display_name": "OCaml default",
   "language": "OCaml",
   "name": "ocaml-jupyter"
  },
  "language_info": {
   "codemirror_mode": "text/x-ocaml",
   "file_extension": ".ml",
   "mimetype": "text/x-ocaml",
   "name": "OCaml",
   "nbconverter_exporter": null,
   "pygments_lexer": "OCaml",
   "version": "4.08.1"
  }
 },
 "nbformat": 4,
 "nbformat_minor": 5
}

