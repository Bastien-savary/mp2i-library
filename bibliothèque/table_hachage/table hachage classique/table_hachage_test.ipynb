{
 "cells": [
  {
   "cell_type": "code",
   "execution_count": 1,
   "id": "366c2e8b-9d11-4be4-a6f3-7adc08541792",
   "metadata": {},
   "outputs": [
    {
     "name": "stdout",
     "output_type": "stream",
     "text": [
      "type ('a, 'b) table_hachage = {\n",
      "  hache : 'a -> int;\n",
      "  donnees : ('a * 'b) list array;\n",
      "  largeur : int;\n",
      "}\n",
      "val create : ('a -> int) -> int -> ('a, 'b) table_hachage = <fun>\n",
      "val appartient : ('a, 'b) table_hachage -> 'a -> bool = <fun>\n",
      "val appartient_2 : ('a, 'b) table_hachage -> 'a -> bool = <fun>\n",
      "val element : ('a, 'b) table_hachage -> 'a -> 'b = <fun>\n",
      "val ajout : ('a, 'b) table_hachage -> 'a -> 'b -> unit = <fun>\n",
      "val suppr : ('a, 'b) table_hachage -> 'a -> unit = <fun>\n",
      "val suppr_2 : ('a, 'b) table_hachage -> 'a -> unit = <fun>\n"
     ]
    }
   ],
   "source": [
    "#use \"table_hachage.ml\";;"
   ]
  },
  {
   "cell_type": "code",
   "execution_count": 2,
   "id": "dce4fdb6-c2f0-4c1a-a66c-97dcd055c1cc",
   "metadata": {},
   "outputs": [
    {
     "data": {
      "text/plain": [
       "val t : (int, '_weak1) table_hachage =\n",
       "  {hache = <fun>; donnees = [|[]; []; []; []; []; []; []; []; []; []|];\n",
       "   largeur = 10}\n"
      ]
     },
     "execution_count": 2,
     "metadata": {},
     "output_type": "execute_result"
    },
    {
     "data": {
      "text/plain": [
       "- : unit = ()\n"
      ]
     },
     "execution_count": 2,
     "metadata": {},
     "output_type": "execute_result"
    }
   ],
   "source": [
    "(*[create h w] permet de creer une table de hachage*)\n",
    "let t = create (fun k -> k mod 10) 10;;\n",
    "\n",
    "ajout t 1 \"red\"; ajout t 2 \"blue\"; ajout t 6 \"black\"; ajout t 8 \"yellow\";;"
   ]
  },
  {
   "cell_type": "code",
   "execution_count": 3,
   "id": "953a9cf1-7ed2-4a76-a362-db7a16460aea",
   "metadata": {},
   "outputs": [
    {
     "data": {
      "text/plain": [
       "- : bool = true\n"
      ]
     },
     "execution_count": 3,
     "metadata": {},
     "output_type": "execute_result"
    }
   ],
   "source": [
    "(*[appartient t k] indique si la clé k appartient à la table de hachage*)\n",
    "appartient t 2"
   ]
  },
  {
   "cell_type": "code",
   "execution_count": 4,
   "id": "3350107f-1ca5-4bf3-a019-e1346c6ebd23",
   "metadata": {},
   "outputs": [
    {
     "data": {
      "text/plain": [
       "- : string = \"black\"\n"
      ]
     },
     "execution_count": 4,
     "metadata": {},
     "output_type": "execute_result"
    }
   ],
   "source": [
    "(* [element t k] ] retrourne l'élément associé à la clé k dans la table de hachage*)\n",
    "element t 6"
   ]
  },
  {
   "cell_type": "code",
   "execution_count": 5,
   "id": "0188d62c-0f40-414b-975e-307d7da091e7",
   "metadata": {},
   "outputs": [
    {
     "data": {
      "text/plain": [
       "- : unit = ()\n"
      ]
     },
     "execution_count": 5,
     "metadata": {},
     "output_type": "execute_result"
    },
    {
     "data": {
      "text/plain": [
       "- : (int, string) table_hachage =\n",
       "{hache = <fun>;\n",
       " donnees =\n",
       "  [|[]; [(1, \"red\")]; [(2, \"blue\")]; []; []; []; [(6, \"black\")]; [];\n",
       "    [(8, \"yellow\")]; [(9, \"green\")]|];\n",
       " largeur = 10}\n"
      ]
     },
     "execution_count": 5,
     "metadata": {},
     "output_type": "execute_result"
    }
   ],
   "source": [
    "(* [ajout t k e] ajoute l'élément e dans la table associé à la clé k *)\n",
    "ajout t 9 \"green\";;t"
   ]
  },
  {
   "cell_type": "code",
   "execution_count": 6,
   "id": "cab559e5-83a3-48c0-be79-307547e4207e",
   "metadata": {},
   "outputs": [
    {
     "data": {
      "text/plain": [
       "- : (int, string) table_hachage =\n",
       "{hache = <fun>;\n",
       " donnees =\n",
       "  [|[]; [(1, \"red\")]; [(2, \"blue\")]; []; []; []; [(6, \"black\")]; []; \n",
       "    []; [(9, \"green\")]|];\n",
       " largeur = 10}\n"
      ]
     },
     "execution_count": 6,
     "metadata": {},
     "output_type": "execute_result"
    }
   ],
   "source": [
    "(* [suppr t k] supprime la clé k de la table de hachage*)\n",
    "suppr t 8;t"
   ]
  },
  {
   "cell_type": "code",
   "execution_count": null,
   "id": "3dbad3f1-a84e-4841-b6b8-7a94e8aa3621",
   "metadata": {},
   "outputs": [],
   "source": []
  }
 ],
 "metadata": {
  "kernelspec": {
   "display_name": "OCaml default",
   "language": "OCaml",
   "name": "ocaml-jupyter"
  },
  "language_info": {
   "codemirror_mode": "text/x-ocaml",
   "file_extension": ".ml",
   "mimetype": "text/x-ocaml",
   "name": "OCaml",
   "nbconverter_exporter": null,
   "pygments_lexer": "OCaml",
   "version": "4.08.1"
  }
 },
 "nbformat": 4,
 "nbformat_minor": 5
}
