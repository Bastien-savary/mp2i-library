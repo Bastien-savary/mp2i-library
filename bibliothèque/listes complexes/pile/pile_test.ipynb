{
 "cells": [
  {
   "cell_type": "code",
   "execution_count": 1,
   "id": "93a5aef6-49be-471e-9351-f8595d78d624",
   "metadata": {},
   "outputs": [
    {
     "name": "stdout",
     "output_type": "stream",
     "text": [
      "type 'a stack = { t : 'a array; mutable n : int; }\n",
      "val stack_push : 'a stack -> 'a -> unit = <fun>\n",
      "val stack_pop : 'a stack -> 'a = <fun>\n",
      "type 'a stack_imperative = {\n",
      "  empty : unit -> bool;\n",
      "  push : 'a -> unit;\n",
      "  pop : unit -> 'a;\n",
      "}\n",
      "val stack_of_array : 'a array -> 'a stack_imperative = <fun>\n",
      "val stack_to_list : 'a stack_imperative -> 'a list = <fun>\n"
     ]
    }
   ],
   "source": [
    "#use \"pile.ml\";;"
   ]
  },
  {
   "cell_type": "code",
   "execution_count": 24,
   "id": "d45dc58e-113b-41f4-8048-07aa6413040c",
   "metadata": {},
   "outputs": [
    {
     "data": {
      "text/plain": [
       "val p : int stack = {t = [|1; 2; 6; 4; 8; 7; 9; 24; 0; 0; 0|]; n = 8}\n"
      ]
     },
     "execution_count": 24,
     "metadata": {},
     "output_type": "execute_result"
    }
   ],
   "source": [
    "let p = {t = [|1;2;6;4;8;7;9;24;0;0;0|]; n = 8}"
   ]
  },
  {
   "cell_type": "code",
   "execution_count": 25,
   "id": "67cfc664-c866-441e-8dc3-8cdfb7925c98",
   "metadata": {},
   "outputs": [
    {
     "data": {
      "text/plain": [
       "- : unit = ()\n"
      ]
     },
     "execution_count": 25,
     "metadata": {},
     "output_type": "execute_result"
    },
    {
     "data": {
      "text/plain": [
       "- : int stack = {t = [|1; 2; 6; 4; 8; 7; 9; 24; 3; 0; 0|]; n = 9}\n"
      ]
     },
     "execution_count": 25,
     "metadata": {},
     "output_type": "execute_result"
    }
   ],
   "source": [
    "(*[stack_push p e] permet d'ajouter un élément e au dessus de la pile *)\n",
    "stack_push p 3;; p"
   ]
  },
  {
   "cell_type": "code",
   "execution_count": 27,
   "id": "40e1a0ab-a8a1-494c-a74d-e7d958ddcecd",
   "metadata": {},
   "outputs": [
    {
     "data": {
      "text/plain": [
       "- : int = 3\n"
      ]
     },
     "execution_count": 27,
     "metadata": {},
     "output_type": "execute_result"
    }
   ],
   "source": [
    "(*[stack_pop p e] permet d'enlever l'élément e au dessus de la pile *)\n",
    "stack_pop p"
   ]
  }
 ],
 "metadata": {
  "kernelspec": {
   "display_name": "OCaml default",
   "language": "OCaml",
   "name": "ocaml-jupyter"
  },
  "language_info": {
   "codemirror_mode": "text/x-ocaml",
   "file_extension": ".ml",
   "mimetype": "text/x-ocaml",
   "name": "OCaml",
   "nbconverter_exporter": null,
   "pygments_lexer": "OCaml",
   "version": "4.08.1"
  }
 },
 "nbformat": 4,
 "nbformat_minor": 5
}

