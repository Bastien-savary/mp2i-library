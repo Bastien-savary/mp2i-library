{
 "cells": [
  {
   "cell_type": "code",
   "execution_count": 1,
   "id": "a8a9b334-1871-4e34-b132-a4ef9ffa5626",
   "metadata": {},
   "outputs": [
    {
     "name": "stdout",
     "output_type": "stream",
     "text": [
      "type 'a l2c = { elem : 'a; mutable prev : 'a l2c; mutable next : 'a l2c; }\n",
      "val create : 'a -> 'a l2c = <fun>\n",
      "val length : 'a l2c -> int = <fun>\n",
      "val print_l2c : int l2c -> unit = <fun>\n",
      "val appartient : 'a -> 'a l2c -> bool = <fun>\n",
      "val add : 'a l2c -> 'a -> unit = <fun>\n",
      "val del : 'a l2c -> unit = <fun>\n",
      "val fusion : 'a l2c -> 'a l2c -> unit = <fun>\n"
     ]
    }
   ],
   "source": [
    "#use \"liste_cyclique_c2.ml\";;"
   ]
  },
  {
   "cell_type": "code",
   "execution_count": 2,
   "id": "efb12dda-69c6-4c43-949a-edb30b95fd38",
   "metadata": {},
   "outputs": [
    {
     "data": {
      "text/plain": [
       "val l1 : int l2c = {elem = 8; prev = <cycle>; next = <cycle>}\n"
      ]
     },
     "execution_count": 2,
     "metadata": {},
     "output_type": "execute_result"
    },
    {
     "data": {
      "text/plain": [
       "- : unit = ()\n"
      ]
     },
     "execution_count": 2,
     "metadata": {},
     "output_type": "execute_result"
    },
    {
     "data": {
      "text/plain": [
       "- : unit = ()\n"
      ]
     },
     "execution_count": 2,
     "metadata": {},
     "output_type": "execute_result"
    },
    {
     "data": {
      "text/plain": [
       "- : unit = ()\n"
      ]
     },
     "execution_count": 2,
     "metadata": {},
     "output_type": "execute_result"
    },
    {
     "data": {
      "text/plain": [
       "- : int l2c =\n",
       "{elem = 8;\n",
       " prev =\n",
       "  {elem = 9;\n",
       "   prev =\n",
       "    {elem = 0; prev = {elem = 5; prev = <cycle>; next = <cycle>};\n",
       "     next = <cycle>};\n",
       "   next = <cycle>};\n",
       " next =\n",
       "  {elem = 5; prev = <cycle>;\n",
       "   next =\n",
       "    {elem = 0; prev = <cycle>;\n",
       "     next = {elem = 9; prev = <cycle>; next = <cycle>}}}}\n"
      ]
     },
     "execution_count": 2,
     "metadata": {},
     "output_type": "execute_result"
    },
    {
     "name": "stdout",
     "output_type": "stream",
     "text": [
      "5\n",
      "0\n",
      "9\n",
      "8\n"
     ]
    },
    {
     "data": {
      "text/plain": [
       "- : unit = ()\n"
      ]
     },
     "execution_count": 2,
     "metadata": {},
     "output_type": "execute_result"
    },
    {
     "data": {
      "text/plain": [
       "val l2 : int l2c = {elem = 2; prev = <cycle>; next = <cycle>}\n"
      ]
     },
     "execution_count": 2,
     "metadata": {},
     "output_type": "execute_result"
    },
    {
     "data": {
      "text/plain": [
       "- : unit = ()\n"
      ]
     },
     "execution_count": 2,
     "metadata": {},
     "output_type": "execute_result"
    },
    {
     "data": {
      "text/plain": [
       "- : unit = ()\n"
      ]
     },
     "execution_count": 2,
     "metadata": {},
     "output_type": "execute_result"
    },
    {
     "data": {
      "text/plain": [
       "- : unit = ()\n"
      ]
     },
     "execution_count": 2,
     "metadata": {},
     "output_type": "execute_result"
    },
    {
     "data": {
      "text/plain": [
       "- : int l2c =\n",
       "{elem = 2;\n",
       " prev =\n",
       "  {elem = 3;\n",
       "   prev =\n",
       "    {elem = 8; prev = {elem = 4; prev = <cycle>; next = <cycle>};\n",
       "     next = <cycle>};\n",
       "   next = <cycle>};\n",
       " next =\n",
       "  {elem = 4; prev = <cycle>;\n",
       "   next =\n",
       "    {elem = 8; prev = <cycle>;\n",
       "     next = {elem = 3; prev = <cycle>; next = <cycle>}}}}\n"
      ]
     },
     "execution_count": 2,
     "metadata": {},
     "output_type": "execute_result"
    },
    {
     "name": "stdout",
     "output_type": "stream",
     "text": [
      "4\n",
      "8\n",
      "3\n",
      "2\n"
     ]
    },
    {
     "data": {
      "text/plain": [
       "- : unit = ()\n"
      ]
     },
     "execution_count": 2,
     "metadata": {},
     "output_type": "execute_result"
    }
   ],
   "source": [
    "let l1 = create 8;;add l1 9;; add l1 0;; add l1 5;; l1;;\n",
    "print_l2c l1;;\n",
    "let l2 = create 2;;add l2 3;; add l2 8;; add l2 4;; l2;;\n",
    "print_l2c l2;;"
   ]
  },
  {
   "cell_type": "code",
   "execution_count": 3,
   "id": "a2605534-f68c-44bd-8cc2-e37cab77b884",
   "metadata": {},
   "outputs": [
    {
     "data": {
      "text/plain": [
       "- : int l2c = {elem = 1; prev = <cycle>; next = <cycle>}\n"
      ]
     },
     "execution_count": 3,
     "metadata": {},
     "output_type": "execute_result"
    }
   ],
   "source": [
    "(*pour créer une liste cyclique à 1 élément*)\n",
    "create 1"
   ]
  },
  {
   "cell_type": "code",
   "execution_count": 4,
   "id": "e8a84027-13da-49c3-840e-848b72f175bc",
   "metadata": {},
   "outputs": [
    {
     "data": {
      "text/plain": [
       "- : int = 4\n"
      ]
     },
     "execution_count": 4,
     "metadata": {},
     "output_type": "execute_result"
    }
   ],
   "source": [
    "(*[length l] renvoie la longueur de la liste l2c*)\n",
    "length l1"
   ]
  },
  {
   "cell_type": "code",
   "execution_count": 5,
   "id": "ad5ba9dd-9c7c-44c2-a689-677453c68cec",
   "metadata": {},
   "outputs": [
    {
     "name": "stdout",
     "output_type": "stream",
     "text": [
      "5\n",
      "0\n",
      "9\n",
      "8\n"
     ]
    },
    {
     "data": {
      "text/plain": [
       "- : unit = ()\n"
      ]
     },
     "execution_count": 5,
     "metadata": {},
     "output_type": "execute_result"
    }
   ],
   "source": [
    "(* [print_l2c] renvoie les éléments de la liste l2c *)\n",
    "print_l2c l1"
   ]
  },
  {
   "cell_type": "code",
   "execution_count": 6,
   "id": "0ce956c3-78ef-4086-aeeb-c6f5b7889a39",
   "metadata": {},
   "outputs": [
    {
     "data": {
      "text/plain": [
       "- : bool = false\n"
      ]
     },
     "execution_count": 6,
     "metadata": {},
     "output_type": "execute_result"
    }
   ],
   "source": [
    "(*[appartient e l] indique si l'élément e appartien à l*)\n",
    "appartient 4 l1"
   ]
  },
  {
   "cell_type": "code",
   "execution_count": 7,
   "id": "6075eb18-8c65-4aa9-b9e0-7aeaf1fcbdc3",
   "metadata": {},
   "outputs": [
    {
     "data": {
      "text/plain": [
       "- : unit = ()\n"
      ]
     },
     "execution_count": 7,
     "metadata": {},
     "output_type": "execute_result"
    },
    {
     "name": "stdout",
     "output_type": "stream",
     "text": [
      "6\n",
      "5\n",
      "0\n",
      "9\n",
      "8\n"
     ]
    },
    {
     "data": {
      "text/plain": [
       "- : unit = ()\n"
      ]
     },
     "execution_count": 7,
     "metadata": {},
     "output_type": "execute_result"
    }
   ],
   "source": [
    "(*[add l e] pour ajouter ou [del l e] supprimer un élément d'une l2c en compléxité O(1)*)\n",
    "add l1 6;; print_l2c l1"
   ]
  },
  {
   "cell_type": "code",
   "execution_count": 9,
   "id": "04b7139b-3241-4688-90cf-5ec7ca71d5ff",
   "metadata": {},
   "outputs": [
    {
     "data": {
      "text/plain": [
       "- : unit = ()\n"
      ]
     },
     "execution_count": 9,
     "metadata": {},
     "output_type": "execute_result"
    }
   ],
   "source": [
    "(*[fusion l1 l2]  réalise la fusion des deux listes en une*)\n",
    "fusion l1 l2;;"
   ]
  },
  {
   "cell_type": "code",
   "execution_count": null,
   "id": "df19715f-a5fc-4b5d-ac9b-ba604aa4ba64",
   "metadata": {},
   "outputs": [],
   "source": []
  },
  {
   "cell_type": "code",
   "execution_count": null,
   "id": "22317027-1eea-4a5d-a96a-e27c31345193",
   "metadata": {},
   "outputs": [],
   "source": []
  }
 ],
 "metadata": {
  "kernelspec": {
   "display_name": "OCaml default",
   "language": "OCaml",
   "name": "ocaml-jupyter"
  },
  "language_info": {
   "codemirror_mode": "text/x-ocaml",
   "file_extension": ".ml",
   "mimetype": "text/x-ocaml",
   "name": "OCaml",
   "nbconverter_exporter": null,
   "pygments_lexer": "OCaml",
   "version": "4.08.1"
  }
 },
 "nbformat": 4,
 "nbformat_minor": 5
}
