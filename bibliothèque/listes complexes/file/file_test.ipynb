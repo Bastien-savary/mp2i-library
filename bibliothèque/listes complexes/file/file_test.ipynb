{
 "cells": [
  {
   "cell_type": "code",
   "execution_count": 1,
   "id": "f9eb56a8-c903-4bf4-9fd3-5e19ddcefaf6",
   "metadata": {},
   "outputs": [
    {
     "name": "stdout",
     "output_type": "stream",
     "text": [
      "type 'a file = {\n",
      "  tab : 'a array;\n",
      "  mutable deb : int;\n",
      "  mutable fin : int;\n",
      "  mutable vide : bool;\n",
      "}\n",
      "val ajoute : 'a file -> 'a -> unit = <fun>\n"
     ]
    }
   ],
   "source": [
    "#use \"file.ml\""
   ]
  },
  {
   "cell_type": "code",
   "execution_count": 2,
   "id": "0c576804-9e06-4ab6-90bd-4b89a6e68cd9",
   "metadata": {},
   "outputs": [
    {
     "name": "stdout",
     "output_type": "stream",
     "text": [
      "val retire : 'a file -> 'a = <fun>\n"
     ]
    },
    {
     "data": {
      "text/plain": [
       "val f : int file =\n",
       "  {tab = [|12; 8; 7; 2; 5; 3; 1; 16; 3; 4; 0; 1|]; deb = 2; fin = 9;\n",
       "   vide = false}\n"
      ]
     },
     "execution_count": 2,
     "metadata": {},
     "output_type": "execute_result"
    }
   ],
   "source": [
    "let f = {tab = [|12;8;7;2;5;3;1;16;3;4;0;1|]; deb = 2; fin = 9; vide = false}"
   ]
  },
  {
   "cell_type": "code",
   "execution_count": 3,
   "id": "15ab7e98-92d8-493a-8ea0-a699307a3cb2",
   "metadata": {},
   "outputs": [
    {
     "data": {
      "text/plain": [
       "- : unit = ()\n"
      ]
     },
     "execution_count": 3,
     "metadata": {},
     "output_type": "execute_result"
    },
    {
     "data": {
      "text/plain": [
       "- : int file =\n",
       "{tab = [|12; 8; 7; 2; 5; 3; 1; 16; 3; 15; 0; 1|]; deb = 2; fin = 10;\n",
       " vide = false}\n"
      ]
     },
     "execution_count": 3,
     "metadata": {},
     "output_type": "execute_result"
    }
   ],
   "source": [
    "(*[ajoute f e] ajoute l'élément e à la fin de la file d'attente f*)\n",
    "ajoute f 15;; \n",
    "f;;"
   ]
  },
  {
   "cell_type": "code",
   "execution_count": 4,
   "id": "b16cce08-095b-4a0f-9e85-60648e97cefc",
   "metadata": {
    "tags": []
   },
   "outputs": [
    {
     "data": {
      "text/plain": [
       "- : int = 7\n"
      ]
     },
     "execution_count": 4,
     "metadata": {},
     "output_type": "execute_result"
    },
    {
     "data": {
      "text/plain": [
       "- : int file =\n",
       "{tab = [|12; 8; 7; 2; 5; 3; 1; 16; 3; 15; 0; 1|]; deb = 3; fin = 10;\n",
       " vide = false}\n"
      ]
     },
     "execution_count": 4,
     "metadata": {},
     "output_type": "execute_result"
    }
   ],
   "source": [
    "(*[retire f] retire l'élément en tête de la file d'attente f et le renvoie*)\n",
    "retire f;;\n",
    "f"
   ]
  },
  {
   "cell_type": "code",
   "execution_count": null,
   "id": "0e4b6727-5d96-42fb-92b6-808b5783a7e8",
   "metadata": {},
   "outputs": [],
   "source": []
  }
 ],
 "metadata": {
  "kernelspec": {
   "display_name": "OCaml default",
   "language": "OCaml",
   "name": "ocaml-jupyter"
  },
  "language_info": {
   "codemirror_mode": "text/x-ocaml",
   "file_extension": ".ml",
   "mimetype": "text/x-ocaml",
   "name": "OCaml",
   "nbconverter_exporter": null,
   "pygments_lexer": "OCaml",
   "version": "4.08.1"
  }
 },
 "nbformat": 4,
 "nbformat_minor": 5
}

