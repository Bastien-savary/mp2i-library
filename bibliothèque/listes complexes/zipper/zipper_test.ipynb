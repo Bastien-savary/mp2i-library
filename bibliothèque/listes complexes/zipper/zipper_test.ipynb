{
 "cells": [
  {
   "cell_type": "code",
   "execution_count": 1,
   "id": "7280feba-fe6d-49a6-bf46-67907f106638",
   "metadata": {},
   "outputs": [
    {
     "name": "stdout",
     "output_type": "stream",
     "text": [
      "type 'a zipper = { left : 'a list; right : 'a list; }\n",
      "val move_right : 'a zipper -> 'a zipper = <fun>\n",
      "val move_left : 'a zipper -> 'a zipper = <fun>\n",
      "val move_r : int -> 'a zipper -> 'a zipper = <fun>\n",
      "val move_l : int -> 'a zipper -> 'a zipper = <fun>\n",
      "val add : 'a -> 'a zipper -> 'a zipper = <fun>\n",
      "val del : 'a zipper -> 'a zipper = <fun>\n",
      "val zipper_to_list : 'a zipper -> 'a list = <fun>\n"
     ]
    }
   ],
   "source": [
    "#use \"zipper.ml\""
   ]
  },
  {
   "cell_type": "code",
   "execution_count": 7,
   "id": "61643842-644e-49a2-b9e5-4a4039cae37e",
   "metadata": {},
   "outputs": [
    {
     "data": {
      "text/plain": [
       "val z : int zipper = {left = [7; 8; 5; 2; 6; 4]; right = [7; 5; 3; 1; 5; 9]}\n"
      ]
     },
     "execution_count": 7,
     "metadata": {},
     "output_type": "execute_result"
    }
   ],
   "source": [
    "let z = { left = [7;8;5;2;6;4]; right = [7;5;3;1;5;9]}"
   ]
  },
  {
   "cell_type": "code",
   "execution_count": 8,
   "id": "24f621a0-4afc-41ae-855f-768efe0ff9e8",
   "metadata": {},
   "outputs": [
    {
     "data": {
      "text/plain": [
       "- : int zipper = {left = [7; 7; 8; 5; 2; 6; 4]; right = [5; 3; 1; 5; 9]}\n"
      ]
     },
     "execution_count": 8,
     "metadata": {},
     "output_type": "execute_result"
    },
    {
     "data": {
      "text/plain": [
       "- : int zipper = {left = [8; 5; 2; 6; 4]; right = [7; 7; 5; 3; 1; 5; 9]}\n"
      ]
     },
     "execution_count": 8,
     "metadata": {},
     "output_type": "execute_result"
    }
   ],
   "source": [
    "(*déplacer le curseur d'un zipper vers la [move_right z] droite ou la [move_left z] gauche*)\n",
    "move_right z;;\n",
    "move_left z;;"
   ]
  },
  {
   "cell_type": "code",
   "execution_count": 11,
   "id": "2bb9af53-ce6a-4fff-9431-ff2e141dfa2e",
   "metadata": {},
   "outputs": [
    {
     "data": {
      "text/plain": [
       "- : int zipper = {left = [3; 5; 7; 7; 8; 5; 2; 6; 4]; right = [1; 5; 9]}\n"
      ]
     },
     "execution_count": 11,
     "metadata": {},
     "output_type": "execute_result"
    },
    {
     "data": {
      "text/plain": [
       "- : int zipper = {left = [5; 2; 6; 4]; right = [8; 7; 7; 5; 3; 1; 5; 9]}\n"
      ]
     },
     "execution_count": 11,
     "metadata": {},
     "output_type": "execute_result"
    }
   ],
   "source": [
    "(*[move_r n z] déplace le curseur n fois vers la droite, ou vers la gauche avec [move_l n z]*)\n",
    "move_r 3 z;;\n",
    " move_l 2 z;;"
   ]
  },
  {
   "cell_type": "code",
   "execution_count": 12,
   "id": "4719d597-0cfd-4a38-a0bf-47124625a1bc",
   "metadata": {},
   "outputs": [
    {
     "data": {
      "text/plain": [
       "- : int zipper = {left = [7; 8; 5; 2; 6; 4]; right = [4; 7; 5; 3; 1; 5; 9]}\n"
      ]
     },
     "execution_count": 12,
     "metadata": {},
     "output_type": "execute_result"
    },
    {
     "data": {
      "text/plain": [
       "- : int zipper = {left = [7; 8; 5; 2; 6; 4]; right = [5; 3; 1; 5; 9]}\n"
      ]
     },
     "execution_count": 12,
     "metadata": {},
     "output_type": "execute_result"
    }
   ],
   "source": [
    "(* [add e z] ajoute un élément à droite du zipper et [del z] supprime l'élément à droite du zipper*)\n",
    "add 4 z;;\n",
    "del z;;"
   ]
  },
  {
   "cell_type": "code",
   "execution_count": 13,
   "id": "41e279ab-f132-4729-91c1-39f6d204dd8e",
   "metadata": {},
   "outputs": [
    {
     "data": {
      "text/plain": [
       "- : int list = [4; 6; 2; 5; 8; 7; 7; 5; 3; 1; 5; 9]\n"
      ]
     },
     "execution_count": 13,
     "metadata": {},
     "output_type": "execute_result"
    }
   ],
   "source": [
    "(*[zipper_to_list z] transforme le zipper z en liste*)\n",
    "zipper_to_list z"
   ]
  },
  {
   "cell_type": "code",
   "execution_count": null,
   "id": "9041c0c0-d6e6-4402-918c-a74df11bfa10",
   "metadata": {},
   "outputs": [],
   "source": []
  }
 ],
 "metadata": {
  "kernelspec": {
   "display_name": "OCaml default",
   "language": "OCaml",
   "name": "ocaml-jupyter"
  },
  "language_info": {
   "codemirror_mode": "text/x-ocaml",
   "file_extension": ".ml",
   "mimetype": "text/x-ocaml",
   "name": "OCaml",
   "nbconverter_exporter": null,
   "pygments_lexer": "OCaml",
   "version": "4.08.1"
  }
 },
 "nbformat": 4,
 "nbformat_minor": 5
}

