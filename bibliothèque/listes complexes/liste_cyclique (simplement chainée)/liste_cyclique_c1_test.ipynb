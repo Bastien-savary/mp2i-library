{
 "cells": [
  {
   "cell_type": "code",
   "execution_count": 2,
   "id": "dcee2347-9b2d-4734-878d-1c1ebe02d906",
   "metadata": {},
   "outputs": [
    {
     "name": "stdout",
     "output_type": "stream",
     "text": [
      "type 'a case = { elem : 'a; mutable next : 'a liste1; }\n",
      "and 'a liste1 = Vide | C of 'a case\n",
      "val to_list : 'a liste1 -> 'a list = <fun>\n",
      "val has_circle : 'a liste1 -> bool = <fun>\n"
     ]
    }
   ],
   "source": [
    "#use \"liste_cyclique_c1.ml\";;"
   ]
  },
  {
   "cell_type": "code",
   "execution_count": 8,
   "id": "d32625eb-3abf-40f7-8998-3f444ad9a934",
   "metadata": {},
   "outputs": [
    {
     "data": {
      "text/plain": [
       "val l1 : int liste1 =\n",
       "  C\n",
       "   {elem = 1;\n",
       "    next =\n",
       "     C\n",
       "      {elem = 2;\n",
       "       next =\n",
       "        C\n",
       "         {elem = 3;\n",
       "          next =\n",
       "           C\n",
       "            {elem = 4; next = C {elem = 5; next = C {elem = 6; next = Vide}}}}}}\n"
      ]
     },
     "execution_count": 8,
     "metadata": {},
     "output_type": "execute_result"
    }
   ],
   "source": [
    "let l1 = C{elem = 1; next = C{elem = 2; next = C{elem = 3; next =C{elem = 4; next =C{elem = 5; next =C{elem = 6; next =Vide}}}}}} "
   ]
  },
  {
   "cell_type": "code",
   "execution_count": 9,
   "id": "340b6d89-eb28-4049-99e4-8756e2ad112f",
   "metadata": {},
   "outputs": [
    {
     "data": {
      "text/plain": [
       "- : int list = [1; 2; 3; 4; 5; 6]\n"
      ]
     },
     "execution_count": 9,
     "metadata": {},
     "output_type": "execute_result"
    }
   ],
   "source": [
    "(*[to_list l] convertit la liste simplement chaînée en liste classique*)\n",
    "to_list l1"
   ]
  },
  {
   "cell_type": "code",
   "execution_count": 14,
   "id": "6d50607d-e295-4847-8285-c0ce784a573d",
   "metadata": {},
   "outputs": [
    {
     "data": {
      "text/plain": [
       "- : bool = false\n"
      ]
     },
     "execution_count": 14,
     "metadata": {},
     "output_type": "execute_result"
    }
   ],
   "source": [
    "(*[] indique si la liste possède un cycle*)\n",
    "has_circle l1;"
   ]
  },
  {
   "cell_type": "code",
   "execution_count": null,
   "id": "b02b2742-ad6f-42a4-b0c3-e5287814303a",
   "metadata": {},
   "outputs": [],
   "source": []
  }
 ],
 "metadata": {
  "kernelspec": {
   "display_name": "OCaml default",
   "language": "OCaml",
   "name": "ocaml-jupyter"
  },
  "language_info": {
   "codemirror_mode": "text/x-ocaml",
   "file_extension": ".ml",
   "mimetype": "text/x-ocaml",
   "name": "OCaml",
   "nbconverter_exporter": null,
   "pygments_lexer": "OCaml",
   "version": "4.08.1"
  }
 },
 "nbformat": 4,
 "nbformat_minor": 5
}

