{
 "cells": [
  {
   "cell_type": "code",
   "execution_count": 1,
   "id": "97bbf3db-cd0f-45e2-a016-0779a583b99a",
   "metadata": {},
   "outputs": [
    {
     "name": "stdout",
     "output_type": "stream",
     "text": [
      "val element : int -> 'a list -> 'a = <fun>\n",
      "val inverser_l : 'a list -> 'a list -> 'a list = <fun>\n",
      "val length_l : 'a list -> int = <fun>\n",
      "val somme_l : int list -> int = <fun>\n",
      "val appartient_l : 'a -> 'a list -> bool = <fun>\n",
      "val concat_l : 'a list -> 'a list -> 'a list = <fun>\n",
      "val mini_l : int list -> int = <fun>\n",
      "val maxi_l : int list -> int = <fun>\n",
      "val croissant_l : 'a list -> bool = <fun>\n",
      "val decroissant_l : 'a list -> bool = <fun>\n",
      "val doublon_l : 'a list -> bool = <fun>\n",
      "val tri_doublon_l : 'a list -> 'a list = <fun>\n",
      "val egal_l : 'a list -> 'a list -> bool = <fun>\n",
      "val image_l : ('a -> 'b) -> 'a list -> 'b list = <fun>\n",
      "val split_l : 'a list -> 'a list * 'a list = <fun>\n",
      "val fusion_l : 'a list -> 'a list -> 'a list = <fun>\n",
      "val tri_l : 'a list -> 'a list = <fun>\n",
      "val partition_l : 'a list -> 'a -> 'a list * 'a list = <fun>\n",
      "val ajoute_l : 'a -> 'a list list -> 'a list list = <fun>\n",
      "val array_of_list : int list -> int array = <fun>\n",
      "val array_to_list : 'a array -> 'a list = <fun>\n",
      "File \"all-liste.ml\", line 140, characters 43-57:\n",
      "140 |          appartient_l (quicksort_l l2) (p::quicksort_l l3);;\n",
      "                                                 ^^^^^^^^^^^^^^\n",
      "Error: This expression has type 'a list\n",
      "       but an expression was expected of type 'a list list\n",
      "       The type variable 'a list occurs inside 'a list list\n"
     ]
    }
   ],
   "source": [
    "#use \"all-liste.ml\";;"
   ]
  },
  {
   "cell_type": "code",
   "execution_count": 2,
   "id": "9659c095-9947-41fa-b412-acd9d1f42908",
   "metadata": {},
   "outputs": [
    {
     "data": {
      "text/plain": [
       "val l1 : int list = [1; 2; 3; 7; 8; 9]\n"
      ]
     },
     "execution_count": 2,
     "metadata": {},
     "output_type": "execute_result"
    },
    {
     "data": {
      "text/plain": [
       "val l2 : int list = [1; 2; 3; 7; 8; 9]\n"
      ]
     },
     "execution_count": 2,
     "metadata": {},
     "output_type": "execute_result"
    },
    {
     "data": {
      "text/plain": [
       "val l3 : int list = [-1; 2; -3; 7; -8; 9]\n"
      ]
     },
     "execution_count": 2,
     "metadata": {},
     "output_type": "execute_result"
    },
    {
     "data": {
      "text/plain": [
       "val l4 : int list = [7; 4; 1; 9; 4; 3]\n"
      ]
     },
     "execution_count": 2,
     "metadata": {},
     "output_type": "execute_result"
    }
   ],
   "source": [
    "let l1 = [1;2;3;7;8;9];;\n",
    "let l2 = [1;2;3;7;8;9];;\n",
    "let l3 = [-1;2;-3;7;-8;9];;\n",
    "let l4 = [7;4;1;9;4;3];;"
   ]
  },
  {
   "cell_type": "code",
   "execution_count": 3,
   "id": "10c9bf0d-7699-4578-b97e-9bf36bb5be78",
   "metadata": {},
   "outputs": [
    {
     "data": {
      "text/plain": [
       "- : int list = [9; 8; 7; 3; 2; 1]\n"
      ]
     },
     "execution_count": 3,
     "metadata": {},
     "output_type": "execute_result"
    }
   ],
   "source": [
    "(* [inverser_l] renvoie l'inversion de la liste l1*)\n",
    "inverser_l [] l1"
   ]
  },
  {
   "cell_type": "code",
   "execution_count": 4,
   "id": "bc522418-7000-4e1b-bee4-2f0aa5b62821",
   "metadata": {},
   "outputs": [
    {
     "data": {
      "text/plain": [
       "- : int list = [1; 2; 3; 7; 8; 9; 1; 2; 3; 7; 8; 9]\n"
      ]
     },
     "execution_count": 4,
     "metadata": {},
     "output_type": "execute_result"
    }
   ],
   "source": [
    "(* [concat_l l1 l2] renvoie la concatenation de l1 et l2 *)\n",
    "concat_l l1 l2"
   ]
  },
  {
   "cell_type": "code",
   "execution_count": 5,
   "id": "b9337d68-cb9f-4929-ad19-3062ef53efa9",
   "metadata": {},
   "outputs": [
    {
     "data": {
      "text/plain": [
       "- : int list = [7; 1; 9; 4; 3]\n"
      ]
     },
     "execution_count": 5,
     "metadata": {},
     "output_type": "execute_result"
    }
   ],
   "source": [
    "(* [tri_doublon_l l1] renvoie l1 sans les doublons *)\n",
    "tri_doublon_l l4;"
   ]
  },
  {
   "cell_type": "code",
   "execution_count": 6,
   "id": "f9f1b4e4-4b54-4bad-9f7e-a3312e780a65",
   "metadata": {},
   "outputs": [
    {
     "data": {
      "text/plain": [
       "- : int list = [4; 8; 12; 28; 32; 36]\n"
      ]
     },
     "execution_count": 6,
     "metadata": {},
     "output_type": "execute_result"
    }
   ],
   "source": [
    "(* [Image_l f l1] renvoie la liste contenant les images de chaque element de l1 par f *)\n",
    "image_l (fun a -> 4*a) l1"
   ]
  },
  {
   "cell_type": "code",
   "execution_count": 7,
   "id": "8a9b3d7b-6d5e-4355-beda-a5fe60172c95",
   "metadata": {},
   "outputs": [
    {
     "data": {
      "text/plain": [
       "- : int list * int list = ([1; 3; 8], [2; 7; 9])\n"
      ]
     },
     "execution_count": 7,
     "metadata": {},
     "output_type": "execute_result"
    }
   ],
   "source": [
    "(* [split_l l1] partage la liste l1 en deux listes *)\n",
    "split_l l1"
   ]
  },
  {
   "cell_type": "code",
   "execution_count": 8,
   "id": "a0ced86a-c198-4c02-a974-06b96b756ffa",
   "metadata": {},
   "outputs": [
    {
     "data": {
      "text/plain": [
       "- : int list = [1; 2; 3; 7; 4; 1; 7; 8; 9; 4; 3; 9]\n"
      ]
     },
     "execution_count": 8,
     "metadata": {},
     "output_type": "execute_result"
    }
   ],
   "source": [
    "(* [fusion_l l1 l2] fusionne deux listes pour en former une unique triée *)\n",
    "fusion_l l1 l4"
   ]
  },
  {
   "cell_type": "code",
   "execution_count": 9,
   "id": "fa311906-e52a-4742-96df-49f2a2c81dee",
   "metadata": {},
   "outputs": [
    {
     "data": {
      "text/plain": [
       "- : int list * int list = ([1; 2; 3], [7; 8; 9])\n"
      ]
     },
     "execution_count": 9,
     "metadata": {},
     "output_type": "execute_result"
    }
   ],
   "source": [
    "(*[partition l p] renvoie deux listes, l2 contient les elements inférieurs à p et l3 les éléments supérieurs ou égaux à p*)\n",
    "partition_l l1 5"
   ]
  },
  {
   "cell_type": "code",
   "execution_count": 10,
   "id": "f8837517-d3b3-417a-bcc9-92b98fb002b1",
   "metadata": {},
   "outputs": [
    {
     "data": {
      "text/plain": [
       "- : int list list = [[8; 1; 2]; [8; 3; 5]]\n"
      ]
     },
     "execution_count": 10,
     "metadata": {},
     "output_type": "execute_result"
    }
   ],
   "source": [
    "(* [ajoute_l e ll] insère l'élément e dans chaque liste contenue dans ll *)\n",
    "let ll = [[1;2];[3;5]] in\n",
    "ajoute_l 8 ll"
   ]
  },
  {
   "cell_type": "code",
   "execution_count": 11,
   "id": "43cd9f17-eb06-4f1a-a981-eb0112eb9b20",
   "metadata": {},
   "outputs": [
    {
     "data": {
      "text/plain": [
       "- : int array = [|1; 2; 3; 7; 8; 9|]\n"
      ]
     },
     "execution_count": 11,
     "metadata": {},
     "output_type": "execute_result"
    }
   ],
   "source": [
    "(* [array_of_list l] transforme une liste en tableau *)\n",
    "array_of_list l1"
   ]
  },
  {
   "cell_type": "code",
   "execution_count": 12,
   "id": "00512411-cc92-4560-be7a-6358629b6a11",
   "metadata": {},
   "outputs": [
    {
     "data": {
      "text/plain": [
       "- : int list = [2; 3; 4; 5; 6]\n"
      ]
     },
     "execution_count": 12,
     "metadata": {},
     "output_type": "execute_result"
    }
   ],
   "source": [
    "(* [array_to_list t] transforme un tableau en liste *)\n",
    "let t = [|2;3;4;5;6|] in \n",
    "array_to_list t"
   ]
  },
  {
   "cell_type": "code",
   "execution_count": null,
   "id": "393f93c7-b59d-444d-86f7-64c9853d6e78",
   "metadata": {},
   "outputs": [],
   "source": []
  }
 ],
 "metadata": {
  "kernelspec": {
   "display_name": "OCaml default",
   "language": "OCaml",
   "name": "ocaml-jupyter"
  },
  "language_info": {
   "codemirror_mode": "text/x-ocaml",
   "file_extension": ".ml",
   "mimetype": "text/x-ocaml",
   "name": "OCaml",
   "nbconverter_exporter": null,
   "pygments_lexer": "OCaml",
   "version": "4.08.1"
  }
 },
 "nbformat": 4,
 "nbformat_minor": 5
}

