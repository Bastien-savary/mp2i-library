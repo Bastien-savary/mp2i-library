{
 "cells": [
  {
   "cell_type": "code",
   "execution_count": 1,
   "id": "122a2686-1c82-4ffa-9ed5-9abbbe7028d3",
   "metadata": {},
   "outputs": [
    {
     "name": "stdout",
     "output_type": "stream",
     "text": [
      "val element : int -> 'a list -> 'a = <fun>\n",
      "val length_l : 'a list -> int = <fun>\n",
      "val somme_l : int list -> int = <fun>\n",
      "val appartient_l : 'a -> 'a list -> bool = <fun>\n",
      "val mini_l : int list -> int = <fun>\n",
      "val maxi_l : int list -> int = <fun>\n",
      "val croissant_l : 'a list -> bool = <fun>\n",
      "val decroissant_l : 'a list -> bool = <fun>\n",
      "val doublon_l : 'a list -> bool = <fun>\n",
      "val egal_l : 'a list -> 'a list -> bool = <fun>\n"
     ]
    }
   ],
   "source": [
    "#use \"listes_indicateurs.ml\""
   ]
  },
  {
   "cell_type": "code",
   "execution_count": 20,
   "id": "bdca2bca-7f5a-4891-9063-3795128d048a",
   "metadata": {},
   "outputs": [
    {
     "data": {
      "text/plain": [
       "val l1 : int list = [1; 2; 3; 7; 8; 9]\n"
      ]
     },
     "execution_count": 20,
     "metadata": {},
     "output_type": "execute_result"
    },
    {
     "data": {
      "text/plain": [
       "val l2 : int list = [1; 2; 3; 7; 8; 9]\n"
      ]
     },
     "execution_count": 20,
     "metadata": {},
     "output_type": "execute_result"
    },
    {
     "data": {
      "text/plain": [
       "val l3 : int list = [-1; 2; -3; 7; -8; 9]\n"
      ]
     },
     "execution_count": 20,
     "metadata": {},
     "output_type": "execute_result"
    },
    {
     "data": {
      "text/plain": [
       "val l4 : int list = [7; 4; 1; 9; 4; 3]\n"
      ]
     },
     "execution_count": 20,
     "metadata": {},
     "output_type": "execute_result"
    }
   ],
   "source": [
    "let l1 = [1;2;3;7;8;9];;\n",
    "let l2 = [1;2;3;7;8;9];;\n",
    "let l3 = [-1;2;-3;7;-8;9];;\n",
    "let l4 = [7;4;1;9;4;3];;"
   ]
  },
  {
   "cell_type": "code",
   "execution_count": 3,
   "id": "caa4b5c0-f84c-4f91-96e2-115eeb0605ae",
   "metadata": {
    "tags": []
   },
   "outputs": [
    {
     "data": {
      "text/plain": [
       "- : int = 7\n"
      ]
     },
     "execution_count": 3,
     "metadata": {},
     "output_type": "execute_result"
    }
   ],
   "source": [
    "(* [element n l1] renvoie le n-ieme element de l1  *)\n",
    "element 3 l1"
   ]
  },
  {
   "cell_type": "code",
   "execution_count": 4,
   "id": "fed11823-26a7-4aa3-8ab0-471ca497b0e3",
   "metadata": {},
   "outputs": [
    {
     "data": {
      "text/plain": [
       "- : int = 6\n"
      ]
     },
     "execution_count": 4,
     "metadata": {},
     "output_type": "execute_result"
    }
   ],
   "source": [
    "(* [length_l l1] renvoie la longueur de l1*)\n",
    "length_l l1"
   ]
  },
  {
   "cell_type": "code",
   "execution_count": 5,
   "id": "15101ae2-09eb-4ad1-a6c2-7a9513c53846",
   "metadata": {},
   "outputs": [
    {
     "data": {
      "text/plain": [
       "- : int = 30\n"
      ]
     },
     "execution_count": 5,
     "metadata": {},
     "output_type": "execute_result"
    }
   ],
   "source": [
    "(* [somme_l l1] renvoie la somme des elements de l1 *)\n",
    "somme_l l1"
   ]
  },
  {
   "cell_type": "code",
   "execution_count": 7,
   "id": "c93f0713-6ad3-4106-ac52-0580712646e6",
   "metadata": {},
   "outputs": [
    {
     "data": {
      "text/plain": [
       "- : bool = true\n"
      ]
     },
     "execution_count": 7,
     "metadata": {},
     "output_type": "execute_result"
    },
    {
     "data": {
      "text/plain": [
       "- : bool = false\n"
      ]
     },
     "execution_count": 7,
     "metadata": {},
     "output_type": "execute_result"
    }
   ],
   "source": [
    "(* [appartient_l e l1] rindique si e appartient a l1*)\n",
    "appartient_l 3 l1;;\n",
    "appartient_l 10 l1;;"
   ]
  },
  {
   "cell_type": "code",
   "execution_count": 8,
   "id": "eb585d49-d497-4879-a75b-ff0b683f57a7",
   "metadata": {},
   "outputs": [
    {
     "data": {
      "text/plain": [
       "- : int = 1\n"
      ]
     },
     "execution_count": 8,
     "metadata": {},
     "output_type": "execute_result"
    }
   ],
   "source": [
    "(* [mini_l l1] renvoie le minimum de l1*)\n",
    "mini_l l1"
   ]
  },
  {
   "cell_type": "code",
   "execution_count": 9,
   "id": "8c830679-17ed-4e2a-aa17-7a084aed1668",
   "metadata": {},
   "outputs": [
    {
     "data": {
      "text/plain": [
       "- : int = 9\n"
      ]
     },
     "execution_count": 9,
     "metadata": {},
     "output_type": "execute_result"
    }
   ],
   "source": [
    "(* [maxi_l l1] renvoie le maximum de l1*)\n",
    "maxi_l l1"
   ]
  },
  {
   "cell_type": "code",
   "execution_count": 22,
   "id": "3b5dc5e6-3d9d-4912-a791-24e30eb034c5",
   "metadata": {},
   "outputs": [
    {
     "data": {
      "text/plain": [
       "- : bool = true\n"
      ]
     },
     "execution_count": 22,
     "metadata": {},
     "output_type": "execute_result"
    },
    {
     "data": {
      "text/plain": [
       "- : bool = true\n"
      ]
     },
     "execution_count": 22,
     "metadata": {},
     "output_type": "execute_result"
    }
   ],
   "source": [
    "(* [croissant_l l1] indique si l1 est triée dans l'ordre croissant *)\n",
    "croissant_l l1;;\n",
    "croissant_l l3;;"
   ]
  },
  {
   "cell_type": "code",
   "execution_count": 13,
   "id": "a22a380b-113d-45ef-b2ee-9aecd3821bb7",
   "metadata": {},
   "outputs": [
    {
     "data": {
      "text/plain": [
       "- : bool = true\n"
      ]
     },
     "execution_count": 13,
     "metadata": {},
     "output_type": "execute_result"
    }
   ],
   "source": [
    "(* [decroissant_l l1] indique si l1 est triée dans l'ordre decroissant  *)\n",
    "decroissant_l l1;;"
   ]
  },
  {
   "cell_type": "code",
   "execution_count": 21,
   "id": "1053e528-b627-4851-abe8-d118c210ee7a",
   "metadata": {},
   "outputs": [
    {
     "data": {
      "text/plain": [
       "- : bool = false\n"
      ]
     },
     "execution_count": 21,
     "metadata": {},
     "output_type": "execute_result"
    },
    {
     "data": {
      "text/plain": [
       "- : bool = true\n"
      ]
     },
     "execution_count": 21,
     "metadata": {},
     "output_type": "execute_result"
    }
   ],
   "source": [
    "(* [doublon_l l1] indique si il existe un doublon dans l1 *)\n",
    "doublon_l l1;;\n",
    "doublon_l l4;"
   ]
  },
  {
   "cell_type": "code",
   "execution_count": 23,
   "id": "025252e0-05a2-4321-a982-cc247d1a3239",
   "metadata": {},
   "outputs": [
    {
     "data": {
      "text/plain": [
       "- : bool = true\n"
      ]
     },
     "execution_count": 23,
     "metadata": {},
     "output_type": "execute_result"
    },
    {
     "data": {
      "text/plain": [
       "- : bool = false\n"
      ]
     },
     "execution_count": 23,
     "metadata": {},
     "output_type": "execute_result"
    }
   ],
   "source": [
    "(* [egal_l l1 l2] indique si les deux listes sont identiques*)\n",
    "egal_l l1 l2;;\n",
    "egal_l l1 l3;;"
   ]
  },
  {
   "cell_type": "code",
   "execution_count": null,
   "id": "5103ffef-db43-4b6a-9285-b69100168e35",
   "metadata": {},
   "outputs": [],
   "source": []
  },
  {
   "cell_type": "code",
   "execution_count": null,
   "id": "ce02c14c-4929-4c37-a6d8-8bc6c5793d5b",
   "metadata": {},
   "outputs": [],
   "source": []
  },
  {
   "cell_type": "code",
   "execution_count": null,
   "id": "ef2d26ec-efcc-408b-899a-b4be26e0a7a6",
   "metadata": {},
   "outputs": [],
   "source": []
  }
 ],
 "metadata": {
  "kernelspec": {
   "display_name": "OCaml default",
   "language": "OCaml",
   "name": "ocaml-jupyter"
  },
  "language_info": {
   "codemirror_mode": "text/x-ocaml",
   "file_extension": ".ml",
   "mimetype": "text/x-ocaml",
   "name": "OCaml",
   "nbconverter_exporter": null,
   "pygments_lexer": "OCaml",
   "version": "4.08.1"
  }
 },
 "nbformat": 4,
 "nbformat_minor": 5
}
